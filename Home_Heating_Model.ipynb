{
  "nbformat": 4,
  "nbformat_minor": 0,
  "metadata": {
    "colab": {
      "name": "Home Heating Model.ipynb",
      "provenance": [],
      "collapsed_sections": [],
      "authorship_tag": "ABX9TyN9j030yOcROHVtC8Gtv6aA",
      "include_colab_link": true
    },
    "kernelspec": {
      "name": "python3",
      "display_name": "Python 3"
    },
    "language_info": {
      "name": "python"
    }
  },
  "cells": [
    {
      "cell_type": "markdown",
      "metadata": {
        "id": "view-in-github",
        "colab_type": "text"
      },
      "source": [
        "<a href=\"https://colab.research.google.com/github/snurfatin/HomeHeating/blob/main/Home_Heating_Model.ipynb\" target=\"_parent\"><img src=\"https://colab.research.google.com/assets/colab-badge.svg\" alt=\"Open In Colab\"/></a>"
      ]
    },
    {
      "cell_type": "code",
      "source": [
        "from sympy.interactive import printing\n",
        "printing.init_printing(use_latex=True)\n",
        "from sympy import *\n",
        "from sympy.solvers.ode.systems import canonical_odes, linear_ode_to_matrix\n",
        "\n",
        "x, y, z = symbols('x y z', cls=Function)\n",
        "t, k0, k1, k2, k3, k4, d = symbols(\"t k0 k1 k2 k3 k4 d\")\n",
        "funcs = [x(t), y(t), z(t)]; n = len(funcs)\n",
        "ics = {x(0): 45, y(0): 35, z(0): 35}\n",
        "model_vars = {k0: S(1)/2, k1: S(1)/2, k2: S(1)/4, k3: S(1)/4, k4: S(3)/4, d: 20}\n",
        "RHS = [k0*(45-x(t)) + k1*(y(t)-x(t)), k1*(x(t)-y(t)) + k2*(35-y(t)) + k3*(z(t)-y(t)) + d, \n",
        "       k3*(y(t)-z(t)) + k4*(35-z(t))]\n",
        "eqs = [0]*n; eqs_h = [0]*n; eqs_num = [0]*n\n",
        "\n",
        "def print_eqs(eqs_disp):\n",
        "  for i in range(n): display(eqs_disp[i])\n",
        "\n",
        "print(\"Nonhomogeneous system: Before substitution\")\n",
        "for i in range(n): eqs[i] = Eq(funcs[i].diff(t), RHS[i])\n",
        "print_eqs(eqs)\n",
        "\n",
        "print(\"\\nNonhomogeneous system: After substitution\")\n",
        "for i in range(n): eqs[i] = eqs[i].subs(model_vars)\n",
        "print_eqs(eqs)\n",
        "\n",
        "eqs1 = canonical_odes(eqs, funcs, t); eqs1 = eqs1[0]\n",
        "(A1, A0), g = linear_ode_to_matrix(eqs1, funcs, t, 1); A = A0\n",
        "\n",
        "print(\"\\nAssociated homogeneous system\")\n",
        "for i in range(n): eqs_h[i] = Eq(funcs[i].diff(t), eqs[i].rhs - g[i])\n",
        "print_eqs(eqs_h)\n",
        "\n",
        "print(\"\\nEigenvalues, multiplicity and eigenvectors of the homogeneous system\")\n",
        "display(A.eigenvects())\n",
        "\n",
        "print(\"\\nGeneral solution to the homogeneous system that satisfies the initial conditions\")\n",
        "soln_h = dsolve(eqs_h, funcs, ics=ics); print_eqs(soln_h)\n",
        "\n",
        "print(\"\\nGeneral solution to the nonhomogeneous system that satisfies the initial conditions (symbolic)\")\n",
        "soln = dsolve(eqs, funcs, ics=ics); print_eqs(soln)\n",
        "\n",
        "print(\"\\nGeneral solution to the nonhomogeneous system that satisfies the initial conditions (numeric)\")\n",
        "model_vars_num = {k0: 1/2, k1: 1/2, k2: 1/4, k3: 1/4, k4: 3/4, d: 20}\n",
        "for i in range(n): \n",
        "  eqs_num[i] = Eq(funcs[i].diff(t), RHS[i].subs(model_vars_num))\n",
        "soln_num = dsolve(eqs_num, funcs, ics=ics); print_eqs(soln_num)"
      ],
      "metadata": {
        "id": "QNkak93n74D1"
      },
      "execution_count": null,
      "outputs": []
    },
    {
      "cell_type": "code",
      "source": [
        "import matplotlib.pyplot as plt\n",
        "\n",
        "p = plot(soln[0].rhs, show=False, axis_center=(0, 30), \n",
        "            xlim=[0, 10], ylim=[30, 70], size=(15, 12),\n",
        "            title='Temperature vs Time', xlabel='Time, $t$',\n",
        "            ylabel='Temperature, $T$', legend=True)\n",
        "for i in range(1, n):\n",
        "  p.extend(plot(soln[i].rhs, show=False))\n",
        "col = ['b', 'g', 'r']; lab = ['Basement', 'Main floor', 'Attic']\n",
        "for i in range(n): \n",
        "  p[i].line_color = col[i]\n",
        "  p[i].label = str(funcs[i]) + ': ' + lab[i] + ' temperature'\n",
        "\n",
        "plt.rcParams['font.size']=20\n",
        "plt.rcParams['lines.linewidth']=3\n",
        "plt.rcParams['legend.loc'] = \"lower center\"\n",
        "plt.rcParams['legend.fontsize']=16\n",
        "plt.rcParams['savefig.transparent']='True'\n",
        "plt.rcParams['savefig.dpi']=500\n",
        "\n",
        "p.show()"
      ],
      "metadata": {
        "id": "PFCofn2s3qjK"
      },
      "execution_count": null,
      "outputs": []
    },
    {
      "cell_type": "code",
      "source": [
        "p.save('plot.png')"
      ],
      "metadata": {
        "id": "9pUr5jay4dTY"
      },
      "execution_count": null,
      "outputs": []
    }
  ]
}